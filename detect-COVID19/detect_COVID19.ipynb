{
  "nbformat": 4,
  "nbformat_minor": 0,
  "metadata": {
    "colab": {
      "name": "detect-COVID19.ipynb",
      "provenance": [],
      "collapsed_sections": []
    },
    "kernelspec": {
      "name": "python3",
      "display_name": "Python 3"
    },
    "accelerator": "GPU"
  },
  "cells": [
    {
      "cell_type": "code",
      "metadata": {
        "id": "DWvBsZ5sQ3jI",
        "outputId": "2c6cfb0e-7a1d-47cc-f80f-9d1f082c5ecf",
        "colab": {
          "base_uri": "https://localhost:8080/"
        }
      },
      "source": [
        "from tensorflow.python.keras.preprocessing import image\n",
        "from tensorflow.python.keras.layers import *\n",
        "from tensorflow.python.keras.models import * \n",
        "from google.colab import drive\n",
        "drive.mount('/content/drive')"
      ],
      "execution_count": null,
      "outputs": [
        {
          "output_type": "stream",
          "text": [
            "Drive already mounted at /content/drive; to attempt to forcibly remount, call drive.mount(\"/content/drive\", force_remount=True).\n"
          ],
          "name": "stdout"
        }
      ]
    },
    {
      "cell_type": "code",
      "metadata": {
        "id": "yPGYgTykR3B3",
        "outputId": "9e6a3af1-a218-4826-cfdb-ea57087764b4",
        "colab": {
          "base_uri": "https://localhost:8080/"
        }
      },
      "source": [
        "model = Sequential()\n",
        "model.add(Conv2D(32, kernel_size=(3,3), activation=\"relu\",input_shape=(224,224,3)))\n",
        "model.add(Conv2D(64, kernel_size=(3,3), activation=\"relu\"))\n",
        "model.add(MaxPooling2D(pool_size=(2,2)))\n",
        "model.add(Dropout(0.25))\n",
        "model.add(Conv2D(128, kernel_size=(3,3), activation=\"relu\"))\n",
        "model.add(MaxPooling2D(pool_size=(2,2)))\n",
        "model.add(Dropout(0.25))\n",
        "model.add(Flatten())\n",
        "model.add(Dense(64, activation = \"relu\"))\n",
        "model.add(Dropout(0.5))\n",
        "model.add(Dense(1, activation=\"sigmoid\"))\n",
        "\n",
        "model.compile(loss=\"binary_crossentropy\", optimizer=\"adam\",metrics = [\"accuracy\"])\n",
        "model.summary()"
      ],
      "execution_count": null,
      "outputs": [
        {
          "output_type": "stream",
          "text": [
            "Model: \"sequential_1\"\n",
            "_________________________________________________________________\n",
            "Layer (type)                 Output Shape              Param #   \n",
            "=================================================================\n",
            "conv2d_3 (Conv2D)            (None, 222, 222, 32)      896       \n",
            "_________________________________________________________________\n",
            "conv2d_4 (Conv2D)            (None, 220, 220, 64)      18496     \n",
            "_________________________________________________________________\n",
            "max_pooling2d_2 (MaxPooling2 (None, 110, 110, 64)      0         \n",
            "_________________________________________________________________\n",
            "dropout_3 (Dropout)          (None, 110, 110, 64)      0         \n",
            "_________________________________________________________________\n",
            "conv2d_5 (Conv2D)            (None, 108, 108, 128)     73856     \n",
            "_________________________________________________________________\n",
            "max_pooling2d_3 (MaxPooling2 (None, 54, 54, 128)       0         \n",
            "_________________________________________________________________\n",
            "dropout_4 (Dropout)          (None, 54, 54, 128)       0         \n",
            "_________________________________________________________________\n",
            "flatten_1 (Flatten)          (None, 373248)            0         \n",
            "_________________________________________________________________\n",
            "dense_2 (Dense)              (None, 64)                23887936  \n",
            "_________________________________________________________________\n",
            "dropout_5 (Dropout)          (None, 64)                0         \n",
            "_________________________________________________________________\n",
            "dense_3 (Dense)              (None, 1)                 65        \n",
            "=================================================================\n",
            "Total params: 23,981,249\n",
            "Trainable params: 23,981,249\n",
            "Non-trainable params: 0\n",
            "_________________________________________________________________\n"
          ],
          "name": "stdout"
        }
      ]
    },
    {
      "cell_type": "code",
      "metadata": {
        "id": "4UI0nXvxSZam",
        "outputId": "17228805-a978-4102-d696-acedea73a47e",
        "colab": {
          "base_uri": "https://localhost:8080/"
        }
      },
      "source": [
        "train_datagen = image.ImageDataGenerator(rescale=1./255, shear_range=0.2, zoom_range=0.2, horizontal_flip=True)\n",
        "test_datagen = image.ImageDataGenerator(rescale = 1./255)\n",
        "\n",
        "print('Created the Data Generator Objects.')"
      ],
      "execution_count": null,
      "outputs": [
        {
          "output_type": "stream",
          "text": [
            "Created the Data Generator Objects.\n"
          ],
          "name": "stdout"
        }
      ]
    },
    {
      "cell_type": "code",
      "metadata": {
        "id": "tdOItsAtSkLv",
        "outputId": "b107f006-8566-4d67-f95c-9e79e5b5c326",
        "colab": {
          "base_uri": "https://localhost:8080/"
        }
      },
      "source": [
        "train_generator = train_datagen.flow_from_directory('/content/drive/My Drive/data/detect-COVID19/Train',target_size=(224,224),batch_size=32, class_mode=\"binary\")\n",
        "val_generator = test_datagen.flow_from_directory('/content/drive/My Drive/data/detect-COVID19/Val',target_size=(224,224),batch_size=32, class_mode=\"binary\")"
      ],
      "execution_count": null,
      "outputs": [
        {
          "output_type": "stream",
          "text": [
            "Found 221 images belonging to 2 classes.\n",
            "Found 60 images belonging to 2 classes.\n"
          ],
          "name": "stdout"
        }
      ]
    },
    {
      "cell_type": "code",
      "metadata": {
        "id": "TQ9sPVW8UM-K",
        "outputId": "149eccbe-0dd1-425d-a1eb-9b2d00df6d2d",
        "colab": {
          "base_uri": "https://localhost:8080/"
        }
      },
      "source": [
        "hist = model.fit(train_generator, epochs = 6, validation_data=val_generator, validation_steps=2)"
      ],
      "execution_count": null,
      "outputs": [
        {
          "output_type": "stream",
          "text": [
            "Epoch 1/6\n",
            "7/7 [==============================] - 49s 7s/step - loss: 4.1127 - accuracy: 0.5973 - val_loss: 0.6718 - val_accuracy: 0.5000\n",
            "Epoch 2/6\n",
            "7/7 [==============================] - 9s 1s/step - loss: 0.6311 - accuracy: 0.6471 - val_loss: 0.5581 - val_accuracy: 0.8167\n",
            "Epoch 3/6\n",
            "7/7 [==============================] - 9s 1s/step - loss: 0.4527 - accuracy: 0.7828 - val_loss: 0.3182 - val_accuracy: 0.9333\n",
            "Epoch 4/6\n",
            "7/7 [==============================] - 9s 1s/step - loss: 0.3544 - accuracy: 0.8552 - val_loss: 0.1793 - val_accuracy: 0.9500\n",
            "Epoch 5/6\n",
            "7/7 [==============================] - 9s 1s/step - loss: 0.2506 - accuracy: 0.8914 - val_loss: 0.1560 - val_accuracy: 0.9667\n",
            "Epoch 6/6\n",
            "7/7 [==============================] - 9s 1s/step - loss: 0.1716 - accuracy: 0.9502 - val_loss: 0.0891 - val_accuracy: 0.9667\n"
          ],
          "name": "stdout"
        }
      ]
    }
  ]
}